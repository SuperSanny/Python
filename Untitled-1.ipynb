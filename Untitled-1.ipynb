{
 "cells": [
  {
   "cell_type": "code",
   "execution_count": null,
   "metadata": {},
   "outputs": [],
   "source": [
    "import pyautogui\n",
    "import webbrowser as wb\n",
    "import time\n",
    "time.sleep(20)\n",
    "for i in range(100):\n",
    "    pyautogui.write('Chalo Sab Khelne')\n",
    "    pyautogui.press(\"enter\")"
   ]
  }
 ],
 "metadata": {
  "interpreter": {
   "hash": "5ebc1c8c41a73f8c22eb1ea4afdc80e06c208ad861980e5317ad13f37bec2939"
  },
  "kernelspec": {
   "display_name": "Python 3.10.2 64-bit",
   "language": "python",
   "name": "python3"
  },
  "language_info": {
   "codemirror_mode": {
    "name": "ipython",
    "version": 3
   },
   "file_extension": ".py",
   "mimetype": "text/x-python",
   "name": "python",
   "nbconvert_exporter": "python",
   "pygments_lexer": "ipython3",
   "version": "3.10.2"
  },
  "orig_nbformat": 4
 },
 "nbformat": 4,
 "nbformat_minor": 2
}
